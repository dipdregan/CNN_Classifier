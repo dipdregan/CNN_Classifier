{
 "cells": [
  {
   "cell_type": "code",
   "execution_count": 14,
   "id": "a610cdfb",
   "metadata": {},
   "outputs": [],
   "source": [
    "import tensorflow as tf\n",
    "import os\n",
    "from tqdm import tqdm\n",
    "import urllib.request as req"
   ]
  },
  {
   "cell_type": "code",
   "execution_count": 15,
   "id": "22709905",
   "metadata": {},
   "outputs": [],
   "source": [
    "Source_url =\"https://download.microsoft.com/download/3/E/1/3E1C3F21-ECDB-4869-8368-6DEBA77B919F/kagglecatsanddogs_3367a.zip\""
   ]
  },
  {
   "cell_type": "code",
   "execution_count": 16,
   "id": "f1c55e55",
   "metadata": {},
   "outputs": [
    {
     "name": "stdout",
     "output_type": "stream",
     "text": [
      "Requirement already satisfied: tqdm in f:\\deep learning\\dog_cat_classifier using mlops\\cnn_classifier\\env\\lib\\site-packages (4.63.0)\n",
      "Requirement already satisfied: colorama in f:\\deep learning\\dog_cat_classifier using mlops\\cnn_classifier\\env\\lib\\site-packages (from tqdm) (0.4.4)\n"
     ]
    }
   ],
   "source": [
    "!pip install tqdm"
   ]
  },
  {
   "cell_type": "code",
   "execution_count": 17,
   "id": "f7caabb6",
   "metadata": {},
   "outputs": [],
   "source": [
    "destination ='data'\n",
    "os.makedirs(destination,exist_ok=True)\n",
    "data_file = \"data.zip\"\n",
    "destination_zip_path = os.path.join(destination,data_file)"
   ]
  },
  {
   "cell_type": "code",
   "execution_count": null,
   "id": "7d8ae014",
   "metadata": {},
   "outputs": [],
   "source": [
    "filename, header =req.urlretrieve(Source_url,destination_zip_path)"
   ]
  },
  {
   "cell_type": "code",
   "execution_count": null,
   "id": "d8a9a1ae",
   "metadata": {},
   "outputs": [],
   "source": []
  }
 ],
 "metadata": {
  "kernelspec": {
   "display_name": "Python 3 (ipykernel)",
   "language": "python",
   "name": "python3"
  },
  "language_info": {
   "codemirror_mode": {
    "name": "ipython",
    "version": 3
   },
   "file_extension": ".py",
   "mimetype": "text/x-python",
   "name": "python",
   "nbconvert_exporter": "python",
   "pygments_lexer": "ipython3",
   "version": "3.7.11"
  }
 },
 "nbformat": 4,
 "nbformat_minor": 5
}
